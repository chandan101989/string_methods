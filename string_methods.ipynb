{
 "cells": [
  {
   "cell_type": "code",
   "execution_count": 54,
   "id": "fc320114",
   "metadata": {},
   "outputs": [],
   "source": [
    "my_string=\"1. The computer was born to solve problems that did not exist before \""
   ]
  },
  {
   "cell_type": "code",
   "execution_count": 42,
   "id": "ee51266b",
   "metadata": {},
   "outputs": [
    {
     "data": {
      "text/plain": [
       "'1. The computer was born to solve problems that did not exist before '"
      ]
     },
     "execution_count": 42,
     "metadata": {},
     "output_type": "execute_result"
    }
   ],
   "source": [
    "my_string"
   ]
  },
  {
   "cell_type": "code",
   "execution_count": 43,
   "id": "b8f7f54e",
   "metadata": {},
   "outputs": [
    {
     "data": {
      "text/plain": [
       "'1. the computer was born to solve problems that did not exist before '"
      ]
     },
     "execution_count": 43,
     "metadata": {},
     "output_type": "execute_result"
    }
   ],
   "source": [
    "# casefold() will convert the string to lower case\n",
    "my_string.casefold()"
   ]
  },
  {
   "cell_type": "code",
   "execution_count": 44,
   "id": "67b7c43b",
   "metadata": {},
   "outputs": [
    {
     "data": {
      "text/plain": [
       "'1. THE COMPUTER WAS BORN TO SOLVE PROBLEMS THAT DID NOT EXIST BEFORE '"
      ]
     },
     "execution_count": 44,
     "metadata": {},
     "output_type": "execute_result"
    }
   ],
   "source": [
    "#upper() method will convert the string to upper case all letters\n",
    "my_string.upper()"
   ]
  },
  {
   "cell_type": "code",
   "execution_count": 45,
   "id": "8db5a031",
   "metadata": {},
   "outputs": [
    {
     "data": {
      "text/plain": [
       "'1. The Computer Was Born To Solve Problems That Did Not Exist Before '"
      ]
     },
     "execution_count": 45,
     "metadata": {},
     "output_type": "execute_result"
    }
   ],
   "source": [
    "#title() method will convert the string to title case\n",
    "my_string.title()"
   ]
  },
  {
   "cell_type": "code",
   "execution_count": 46,
   "id": "e32eeb1f",
   "metadata": {},
   "outputs": [
    {
     "data": {
      "text/plain": [
       "'               1. The computer was born to solve problems that did not exist before                 '"
      ]
     },
     "execution_count": 46,
     "metadata": {},
     "output_type": "execute_result"
    }
   ],
   "source": [
    "#center()method will keep the string exactly in the centre\n",
    "my_string.center(100)"
   ]
  },
  {
   "cell_type": "code",
   "execution_count": 58,
   "id": "04c71ac3",
   "metadata": {},
   "outputs": [],
   "source": [
    "\n",
    "my_string= \"Hello\\tworld\\tPython\""
   ]
  },
  {
   "cell_type": "code",
   "execution_count": 60,
   "id": "fda0fa58",
   "metadata": {},
   "outputs": [
    {
     "data": {
      "text/plain": [
       "'Hello   world   Python'"
      ]
     },
     "execution_count": 60,
     "metadata": {},
     "output_type": "execute_result"
    }
   ],
   "source": [
    "# expandtabs() method are used to expand the tab characters(\\t)\n",
    "my_string.expandtabs(tabsize=4)"
   ]
  },
  {
   "cell_type": "code",
   "execution_count": 78,
   "id": "7e18535e",
   "metadata": {},
   "outputs": [],
   "source": [
    "my_string=\"1. The computer was born to solve problems that did not exist before \""
   ]
  },
  {
   "cell_type": "code",
   "execution_count": 79,
   "id": "04fc343a",
   "metadata": {},
   "outputs": [
    {
     "data": {
      "text/plain": [
       "0"
      ]
     },
     "execution_count": 79,
     "metadata": {},
     "output_type": "execute_result"
    }
   ],
   "source": [
    "my_string.count('O')#doubt"
   ]
  },
  {
   "cell_type": "code",
   "execution_count": 81,
   "id": "7ca92348",
   "metadata": {},
   "outputs": [
    {
     "data": {
      "text/plain": [
       "b'1. The computer was born to solve problems that did not exist before '"
      ]
     },
     "execution_count": 81,
     "metadata": {},
     "output_type": "execute_result"
    }
   ],
   "source": [
    "# encode() method is used to convert the unicode string to bytes object\n",
    "my_string.encode()"
   ]
  },
  {
   "cell_type": "code",
   "execution_count": 88,
   "id": "a67b2c0f",
   "metadata": {},
   "outputs": [
    {
     "data": {
      "text/plain": [
       "True"
      ]
     },
     "execution_count": 88,
     "metadata": {},
     "output_type": "execute_result"
    }
   ],
   "source": [
    "#endswith() method tells the substring what we provided, is the last word of the string ,and should give the start and end index\n",
    "my_string.endswith(\"before\",0,68)"
   ]
  },
  {
   "cell_type": "code",
   "execution_count": 96,
   "id": "589fc8c3",
   "metadata": {},
   "outputs": [
    {
     "data": {
      "text/plain": [
       "3"
      ]
     },
     "execution_count": 96,
     "metadata": {},
     "output_type": "execute_result"
    }
   ],
   "source": [
    "#find()method is used to find the specific word from the string ,\n",
    "# we should provide the substring , it will return the index of the substring\n",
    "my_string.find(\"The\")"
   ]
  },
  {
   "cell_type": "code",
   "execution_count": 99,
   "id": "cabc8f52",
   "metadata": {},
   "outputs": [],
   "source": [
    "my_string=\"1. The computer was born to {} problems that did not exist {} \""
   ]
  },
  {
   "cell_type": "code",
   "execution_count": 103,
   "id": "c110707f",
   "metadata": {},
   "outputs": [],
   "source": [
    "reason=\"solve\"\n",
    "period=\"before\""
   ]
  },
  {
   "cell_type": "code",
   "execution_count": 104,
   "id": "1b2a2ae3",
   "metadata": {},
   "outputs": [],
   "source": [
    "#format()method is used to customize the sentences(f-string)\n",
    "respone=my_string.format(reason,period)"
   ]
  },
  {
   "cell_type": "code",
   "execution_count": 105,
   "id": "12a6d8fa",
   "metadata": {},
   "outputs": [
    {
     "data": {
      "text/plain": [
       "'1. The computer was born to solve problems that did not exist before '"
      ]
     },
     "execution_count": 105,
     "metadata": {},
     "output_type": "execute_result"
    }
   ],
   "source": [
    "respone"
   ]
  },
  {
   "cell_type": "code",
   "execution_count": 113,
   "id": "e9e3db17",
   "metadata": {},
   "outputs": [],
   "source": [
    "my_string=\"     1. The computer was born to solve problems that did not exist before\""
   ]
  },
  {
   "cell_type": "code",
   "execution_count": 114,
   "id": "f59a8a4d",
   "metadata": {},
   "outputs": [
    {
     "data": {
      "text/plain": [
       "'     1. The computer was born to solve problems that did not exist before'"
      ]
     },
     "execution_count": 114,
     "metadata": {},
     "output_type": "execute_result"
    }
   ],
   "source": [
    "my_string\n"
   ]
  },
  {
   "cell_type": "code",
   "execution_count": 117,
   "id": "c370c85f",
   "metadata": {},
   "outputs": [],
   "source": [
    "#Istrip() method is used to trim the whitespaces from the left side of the string\n",
    "my_string=my_string.lstrip()"
   ]
  },
  {
   "cell_type": "code",
   "execution_count": 118,
   "id": "9579a648",
   "metadata": {},
   "outputs": [
    {
     "data": {
      "text/plain": [
       "'1. The computer was born to solve problems that did not exist before'"
      ]
     },
     "execution_count": 118,
     "metadata": {},
     "output_type": "execute_result"
    }
   ],
   "source": [
    "my_string\n"
   ]
  },
  {
   "cell_type": "code",
   "execution_count": 119,
   "id": "310f52f5",
   "metadata": {},
   "outputs": [
    {
     "data": {
      "text/plain": [
       "True"
      ]
     },
     "execution_count": 119,
     "metadata": {},
     "output_type": "execute_result"
    }
   ],
   "source": [
    "my_string.isascii()"
   ]
  },
  {
   "cell_type": "code",
   "execution_count": null,
   "id": "7773536d",
   "metadata": {},
   "outputs": [],
   "source": []
  },
  {
   "cell_type": "code",
   "execution_count": null,
   "id": "3eb554f5",
   "metadata": {},
   "outputs": [],
   "source": []
  },
  {
   "cell_type": "code",
   "execution_count": null,
   "id": "56ab7d8e",
   "metadata": {},
   "outputs": [],
   "source": []
  },
  {
   "cell_type": "code",
   "execution_count": null,
   "id": "94cdcfd2",
   "metadata": {},
   "outputs": [],
   "source": []
  },
  {
   "cell_type": "code",
   "execution_count": null,
   "id": "dae5957c",
   "metadata": {},
   "outputs": [],
   "source": []
  },
  {
   "cell_type": "code",
   "execution_count": null,
   "id": "5eec1446",
   "metadata": {},
   "outputs": [],
   "source": []
  },
  {
   "cell_type": "code",
   "execution_count": null,
   "id": "1d6fd7ca",
   "metadata": {},
   "outputs": [],
   "source": []
  },
  {
   "cell_type": "code",
   "execution_count": null,
   "id": "857b07aa",
   "metadata": {},
   "outputs": [],
   "source": []
  },
  {
   "cell_type": "code",
   "execution_count": null,
   "id": "64552979",
   "metadata": {},
   "outputs": [],
   "source": []
  },
  {
   "cell_type": "code",
   "execution_count": null,
   "id": "2f452fde",
   "metadata": {},
   "outputs": [],
   "source": []
  },
  {
   "cell_type": "code",
   "execution_count": null,
   "id": "2b30756c",
   "metadata": {},
   "outputs": [],
   "source": []
  },
  {
   "cell_type": "code",
   "execution_count": null,
   "id": "db3cc5eb",
   "metadata": {},
   "outputs": [],
   "source": []
  },
  {
   "cell_type": "code",
   "execution_count": null,
   "id": "31412939",
   "metadata": {},
   "outputs": [],
   "source": []
  },
  {
   "cell_type": "code",
   "execution_count": null,
   "id": "2e0dc388",
   "metadata": {},
   "outputs": [],
   "source": []
  },
  {
   "cell_type": "code",
   "execution_count": null,
   "id": "1b75cd3e",
   "metadata": {},
   "outputs": [],
   "source": []
  },
  {
   "cell_type": "code",
   "execution_count": null,
   "id": "2aeada44",
   "metadata": {},
   "outputs": [],
   "source": []
  },
  {
   "cell_type": "code",
   "execution_count": null,
   "id": "91498c06",
   "metadata": {},
   "outputs": [],
   "source": []
  },
  {
   "cell_type": "code",
   "execution_count": 63,
   "id": "66805ce3",
   "metadata": {},
   "outputs": [
    {
     "name": "stdout",
     "output_type": "stream",
     "text": [
      "[7, 8, 9]\n"
     ]
    }
   ],
   "source": [
    "# my_string = \"chandan123kumar\"\n",
    "# digit_index = []\n",
    "\n",
    "# for index, char in enumerate(my_string):\n",
    "#     if char.isdigit():\n",
    "#         digit_index.append(index)\n",
    "\n",
    "# print( digit_indices)\n"
   ]
  },
  {
   "cell_type": "code",
   "execution_count": 82,
   "id": "213c49a5",
   "metadata": {},
   "outputs": [],
   "source": [
    "\n"
   ]
  },
  {
   "cell_type": "code",
   "execution_count": null,
   "id": "a5566d52",
   "metadata": {},
   "outputs": [],
   "source": []
  },
  {
   "cell_type": "code",
   "execution_count": null,
   "id": "05a95cf4",
   "metadata": {},
   "outputs": [],
   "source": []
  },
  {
   "cell_type": "code",
   "execution_count": null,
   "id": "10854b8d",
   "metadata": {},
   "outputs": [],
   "source": []
  },
  {
   "cell_type": "code",
   "execution_count": null,
   "id": "269fa4a1",
   "metadata": {},
   "outputs": [],
   "source": []
  },
  {
   "cell_type": "code",
   "execution_count": null,
   "id": "f968f3da",
   "metadata": {},
   "outputs": [],
   "source": []
  },
  {
   "cell_type": "code",
   "execution_count": null,
   "id": "8a050848",
   "metadata": {},
   "outputs": [],
   "source": []
  },
  {
   "cell_type": "code",
   "execution_count": null,
   "id": "b6b51fc3",
   "metadata": {},
   "outputs": [],
   "source": []
  },
  {
   "cell_type": "code",
   "execution_count": null,
   "id": "5dbacb66",
   "metadata": {},
   "outputs": [],
   "source": []
  }
 ],
 "metadata": {
  "kernelspec": {
   "display_name": "Python 3 (ipykernel)",
   "language": "python",
   "name": "python3"
  },
  "language_info": {
   "codemirror_mode": {
    "name": "ipython",
    "version": 3
   },
   "file_extension": ".py",
   "mimetype": "text/x-python",
   "name": "python",
   "nbconvert_exporter": "python",
   "pygments_lexer": "ipython3",
   "version": "3.11.3"
  }
 },
 "nbformat": 4,
 "nbformat_minor": 5
}
